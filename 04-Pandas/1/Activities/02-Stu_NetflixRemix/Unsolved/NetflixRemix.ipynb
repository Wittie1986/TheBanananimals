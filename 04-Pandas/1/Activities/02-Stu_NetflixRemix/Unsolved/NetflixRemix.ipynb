{
 "cells": [
  {
   "cell_type": "code",
   "execution_count": 5,
   "metadata": {},
   "outputs": [],
   "source": [
    "# Modules\n",
    "import os\n",
    "import csv"
   ]
  },
  {
   "cell_type": "code",
   "execution_count": 6,
   "metadata": {
    "scrolled": true
   },
   "outputs": [
    {
     "name": "stdout",
     "output_type": "stream",
     "text": [
      "What would you like to lookup? White Chicks\n"
     ]
    }
   ],
   "source": [
    "# Prompt user for video lookup\n",
    "netflix_search = input(\"What would you like to lookup? \")"
   ]
  },
  {
   "cell_type": "code",
   "execution_count": 7,
   "metadata": {
    "scrolled": false
   },
   "outputs": [],
   "source": [
    "# Set path for file\n",
    "netflix_csv = os.path.join(\"Resources\", \"netflix_ratings.csv\")\n"
   ]
  },
  {
   "cell_type": "code",
   "execution_count": 8,
   "metadata": {
    "scrolled": true
   },
   "outputs": [
    {
     "name": "stdout",
     "output_type": "stream",
     "text": [
      "row[0] is rated row[1] with a rating of row[5]\n"
     ]
    }
   ],
   "source": [
    "# Open the CSV\n",
    "with open(netflix_csv, newline=\"\") as csvfile:\n",
    "    netflix = csv.reader(csvfile, delimiter=\",\")\n",
    "    \n",
    "    for row in netflix:\n",
    "        if row[0] == netflix_search:\n",
    "            print(f'row[0] is rated row[1] with a rating of row[5]')\n",
    "    \n",
    "        found = True\n",
    "    if found == False:\n",
    "        print(\"We dont have that flix\")\n",
    "    \n",
    "    "
   ]
  },
  {
   "cell_type": "code",
   "execution_count": null,
   "metadata": {},
   "outputs": [],
   "source": []
  },
  {
   "cell_type": "code",
   "execution_count": null,
   "metadata": {},
   "outputs": [],
   "source": []
  }
 ],
 "metadata": {
  "kernelspec": {
   "display_name": "Python 3",
   "language": "python",
   "name": "python3"
  },
  "language_info": {
   "codemirror_mode": {
    "name": "ipython",
    "version": 3
   },
   "file_extension": ".py",
   "mimetype": "text/x-python",
   "name": "python",
   "nbconvert_exporter": "python",
   "pygments_lexer": "ipython3",
   "version": "3.6.6"
  }
 },
 "nbformat": 4,
 "nbformat_minor": 2
}
