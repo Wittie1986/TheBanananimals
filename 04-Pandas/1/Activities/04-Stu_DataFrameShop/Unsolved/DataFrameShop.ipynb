{
 "cells": [
  {
   "cell_type": "code",
   "execution_count": 1,
   "metadata": {},
   "outputs": [],
   "source": [
    "# Import Dependencies\n",
    "import pandas as pd"
   ]
  },
  {
   "cell_type": "code",
   "execution_count": 3,
   "metadata": {},
   "outputs": [
    {
     "data": {
      "text/html": [
       "<div>\n",
       "<style scoped>\n",
       "    .dataframe tbody tr th:only-of-type {\n",
       "        vertical-align: middle;\n",
       "    }\n",
       "\n",
       "    .dataframe tbody tr th {\n",
       "        vertical-align: top;\n",
       "    }\n",
       "\n",
       "    .dataframe thead th {\n",
       "        text-align: right;\n",
       "    }\n",
       "</style>\n",
       "<table border=\"1\" class=\"dataframe\">\n",
       "  <thead>\n",
       "    <tr style=\"text-align: right;\">\n",
       "      <th></th>\n",
       "      <th>Frame</th>\n",
       "      <th>Price</th>\n",
       "      <th>Sales</th>\n",
       "    </tr>\n",
       "  </thead>\n",
       "  <tbody>\n",
       "    <tr>\n",
       "      <th>0</th>\n",
       "      <td>Solid</td>\n",
       "      <td>100</td>\n",
       "      <td>20</td>\n",
       "    </tr>\n",
       "    <tr>\n",
       "      <th>1</th>\n",
       "      <td>Spotted</td>\n",
       "      <td>200</td>\n",
       "      <td>25</td>\n",
       "    </tr>\n",
       "    <tr>\n",
       "      <th>2</th>\n",
       "      <td>Stripped</td>\n",
       "      <td>300</td>\n",
       "      <td>15</td>\n",
       "    </tr>\n",
       "    <tr>\n",
       "      <th>3</th>\n",
       "      <td>Colored</td>\n",
       "      <td>400</td>\n",
       "      <td>10</td>\n",
       "    </tr>\n",
       "    <tr>\n",
       "      <th>4</th>\n",
       "      <td>None</td>\n",
       "      <td>Free</td>\n",
       "      <td>100</td>\n",
       "    </tr>\n",
       "  </tbody>\n",
       "</table>\n",
       "</div>"
      ],
      "text/plain": [
       "      Frame Price  Sales\n",
       "0     Solid   100     20\n",
       "1   Spotted   200     25\n",
       "2  Stripped   300     15\n",
       "3   Colored   400     10\n",
       "4      None  Free    100"
      ]
     },
     "execution_count": 3,
     "metadata": {},
     "output_type": "execute_result"
    }
   ],
   "source": [
    "# DataFrame should have 3 columns: Frame, Price, and Sales AND 5 rows of data\n",
    "price_df = pd.DataFrame(\n",
    "    {\"Frame\": [\"Solid\", \"Spotted\", \"Stripped\", \"Colored\", \"None\"],\n",
    "    \"Price\": [100, 200, 300, 400, \"Free\"],\n",
    "    \"Sales\": [20, 25, 15, 10, 100]})\n",
    "price_df"
   ]
  },
  {
   "cell_type": "code",
   "execution_count": 12,
   "metadata": {},
   "outputs": [
    {
     "ename": "ValueError",
     "evalue": "invalid literal for int() with base 10: 'PriceLess'",
     "output_type": "error",
     "traceback": [
      "\u001b[1;31m---------------------------------------------------------------------------\u001b[0m",
      "\u001b[1;31mValueError\u001b[0m                                Traceback (most recent call last)",
      "\u001b[1;32m<ipython-input-12-eb2a46592ee7>\u001b[0m in \u001b[0;36m<module>\u001b[1;34m()\u001b[0m\n\u001b[0;32m      7\u001b[0m     \u001b[1;33m{\u001b[0m\u001b[1;34m\"Painting\"\u001b[0m\u001b[1;33m:\u001b[0m \u001b[1;34m\"Picaso\"\u001b[0m\u001b[1;33m,\u001b[0m \u001b[1;34m\"Price\"\u001b[0m\u001b[1;33m:\u001b[0m \u001b[1;36m250000\u001b[0m\u001b[1;33m,\u001b[0m \u001b[1;34m\"Popularity\"\u001b[0m\u001b[1;33m:\u001b[0m \u001b[1;34m\"Super\"\u001b[0m\u001b[1;33m}\u001b[0m\u001b[1;33m,\u001b[0m\u001b[1;33m\u001b[0m\u001b[0m\n\u001b[0;32m      8\u001b[0m     \u001b[1;33m{\u001b[0m\u001b[1;34m\"Painting\"\u001b[0m\u001b[1;33m:\u001b[0m \u001b[1;34m\"No Name\"\u001b[0m\u001b[1;33m,\u001b[0m \u001b[1;34m\"Price\"\u001b[0m\u001b[1;33m:\u001b[0m \u001b[1;34m\"Free\"\u001b[0m\u001b[1;33m,\u001b[0m \u001b[1;34m\"Popularity\"\u001b[0m\u001b[1;33m:\u001b[0m \u001b[1;34m\"None\"\u001b[0m\u001b[1;33m}\u001b[0m\u001b[1;33m,\u001b[0m\u001b[1;33m\u001b[0m\u001b[0m\n\u001b[1;32m----> 9\u001b[1;33m     {\"Painting\": \"Nathan Cruz\", \"Price\": int(\"PriceLess\"), \"Popularity\": \"Very\"}]\n\u001b[0m\u001b[0;32m     10\u001b[0m \u001b[1;33m\u001b[0m\u001b[0m\n\u001b[0;32m     11\u001b[0m \u001b[0mPainting\u001b[0m\u001b[1;33m\u001b[0m\u001b[0m\n",
      "\u001b[1;31mValueError\u001b[0m: invalid literal for int() with base 10: 'PriceLess'"
     ]
    }
   ],
   "source": [
    "# Use a different method of creating DataFrames to\n",
    "# Create a DataFrame for an art gallery that contains three columns - \"Painting\", \"Price\", and \"Popularity\"\n",
    "# and has 4 rows of data\n",
    "\n",
    "Painting = pd.DataFrame[\n",
    "    {\"Painting\": \"Mona Lisa\", \"Price\": 1000000, \"Popularity\": \"Super\"},\n",
    "    {\"Painting\": \"Picaso\", \"Price\": 250000, \"Popularity\": \"Super\"},\n",
    "    {\"Painting\": \"No Name\", \"Price\": \"Free\", \"Popularity\": \"None\"},\n",
    "    {\"Painting\": \"Nathan Cruz\", \"Price\": \"PriceLess\", \"Popularity\": \"Very\"}]\n",
    "\n",
    "Painting"
   ]
  },
  {
   "cell_type": "code",
   "execution_count": 15,
   "metadata": {},
   "outputs": [
    {
     "ename": "TypeError",
     "evalue": "'type' object is not subscriptable",
     "output_type": "error",
     "traceback": [
      "\u001b[1;31m---------------------------------------------------------------------------\u001b[0m",
      "\u001b[1;31mTypeError\u001b[0m                                 Traceback (most recent call last)",
      "\u001b[1;32m<ipython-input-15-866221d665b5>\u001b[0m in \u001b[0;36m<module>\u001b[1;34m()\u001b[0m\n\u001b[0;32m      3\u001b[0m     \u001b[1;33m{\u001b[0m\u001b[1;34m\"Painting\"\u001b[0m\u001b[1;33m:\u001b[0m \u001b[1;34m\"Picaso\"\u001b[0m\u001b[1;33m,\u001b[0m \u001b[1;34m\"Price\"\u001b[0m\u001b[1;33m:\u001b[0m \u001b[1;36m250000\u001b[0m\u001b[1;33m,\u001b[0m \u001b[1;34m\"Popularity\"\u001b[0m\u001b[1;33m:\u001b[0m \u001b[1;34m\"Super\"\u001b[0m\u001b[1;33m}\u001b[0m\u001b[1;33m,\u001b[0m\u001b[1;33m\u001b[0m\u001b[0m\n\u001b[0;32m      4\u001b[0m     \u001b[1;33m{\u001b[0m\u001b[1;34m\"Painting\"\u001b[0m\u001b[1;33m:\u001b[0m \u001b[1;34m\"No Name\"\u001b[0m\u001b[1;33m,\u001b[0m \u001b[1;34m\"Price\"\u001b[0m\u001b[1;33m:\u001b[0m \u001b[1;34m\"Free\"\u001b[0m\u001b[1;33m,\u001b[0m \u001b[1;34m\"Popularity\"\u001b[0m\u001b[1;33m:\u001b[0m \u001b[1;34m\"None\"\u001b[0m\u001b[1;33m}\u001b[0m\u001b[1;33m,\u001b[0m\u001b[1;33m\u001b[0m\u001b[0m\n\u001b[1;32m----> 5\u001b[1;33m     {\"Painting\": \"Nathan Cruz\", \"Price\": \"PriceLess\", \"Popularity\": \"Very\"}]\n\u001b[0m\u001b[0;32m      6\u001b[0m \u001b[1;33m\u001b[0m\u001b[0m\n\u001b[0;32m      7\u001b[0m \u001b[0mPainting\u001b[0m\u001b[1;33m\u001b[0m\u001b[0m\n",
      "\u001b[1;31mTypeError\u001b[0m: 'type' object is not subscriptable"
     ]
    }
   ],
   "source": [
    "Painting = pd.DataFrame[\n",
    "    {\"Painting\": \"Mona Lisa\", \"Price\": 1000000, \"Popularity\": \"Super\"},\n",
    "    {\"Painting\": \"Picaso\", \"Price\": 250000, \"Popularity\": \"Super\"},\n",
    "    {\"Painting\": \"No Name\", \"Price\": \"Free\", \"Popularity\": \"None\"},\n",
    "    {\"Painting\": \"Nathan Cruz\", \"Price\": \"PriceLess\", \"Popularity\": \"Very\"}]\n",
    "\n",
    "Painting\n",
    "# New = pd.DataFrame(Painting)\n",
    "# New"
   ]
  },
  {
   "cell_type": "code",
   "execution_count": null,
   "metadata": {},
   "outputs": [],
   "source": []
  }
 ],
 "metadata": {
  "kernelspec": {
   "display_name": "Python 3",
   "language": "python",
   "name": "python3"
  },
  "language_info": {
   "codemirror_mode": {
    "name": "ipython",
    "version": 3
   },
   "file_extension": ".py",
   "mimetype": "text/x-python",
   "name": "python",
   "nbconvert_exporter": "python",
   "pygments_lexer": "ipython3",
   "version": "3.6.6"
  }
 },
 "nbformat": 4,
 "nbformat_minor": 2
}
