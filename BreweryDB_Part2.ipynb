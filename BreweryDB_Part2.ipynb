{
 "cells": [
  {
   "cell_type": "code",
   "execution_count": null,
   "metadata": {},
   "outputs": [],
   "source": [
    "# Dependencies\n",
    "import requests\n",
    "import json\n",
    "import pandas as pd"
   ]
  },
  {
   "cell_type": "code",
   "execution_count": null,
   "metadata": {},
   "outputs": [],
   "source": [
    "#Build URL\n",
    "url = \"https://api.brewerydb.com/v2/locations/\"\n",
    "api_key = \"?key=ce9e2cd34af4e3038e4d25477173db69&p=\"\n",
    "new_url = url + api_key"
   ]
  },
  {
   "cell_type": "code",
   "execution_count": null,
   "metadata": {},
   "outputs": [],
   "source": [
    "# Lists\n",
    "pages = []\n",
    "####pages = list(range(151,261)) *try a small number first to avoid overloading API*\n",
    "\n",
    "indexes = []\n",
    "indexes = list(range(0,50))\n",
    "\n",
    "names = []\n",
    "local = []\n",
    "region = []\n",
    "country = []\n",
    "est = []\n",
    "bizstatus = []\n",
    "closed = []    "
   ]
  },
  {
   "cell_type": "code",
   "execution_count": null,
   "metadata": {},
   "outputs": [],
   "source": [
    "# Request API\n",
    "\n",
    "for page in pages:\n",
    "    response = requests.get(new_url + str(page)).json()\n",
    "    for index in indexes:\n",
    "        try:\n",
    "            est.append(response[\"data\"][index][\"brewery\"][\"established\"])\n",
    "        except KeyError:\n",
    "            indexes.remove(index)\n",
    "            continue\n",
    "        names.append(response[\"data\"][index][\"name\"])\n",
    "        try:\n",
    "            local.append(response[\"data\"][index][\"locality\"])\n",
    "        except KeyError:\n",
    "            local.append([\"null\"])\n",
    "            region.append([\"null\"])\n",
    "            country.append([\"null\"])\n",
    "            bizstatus.append([\"null\"])\n",
    "            closed.append([\"null\"])\n",
    "            continue\n",
    "        try:\n",
    "            region.append(response[\"data\"][index][\"region\"])\n",
    "        except KeyError:\n",
    "            region.append([\"null\"])\n",
    "            country.append([\"null\"])\n",
    "            bizstatus.append([\"null\"])\n",
    "            closed.append([\"null\"])\n",
    "            continue\n",
    "        try:\n",
    "            country.append(response[\"data\"][index][\"country\"][\"name\"])\n",
    "        except KeyError:\n",
    "            country.append([\"null\"])\n",
    "            bizstatus.append([\"null\"])\n",
    "            closed.append([\"null\"])\n",
    "            continue\n",
    "        try:\n",
    "            bizstatus.append(response[\"data\"][index][\"brewery\"][\"isInBusiness\"])\n",
    "        except KeyError:\n",
    "            bizstatus.append([\"null\"])\n",
    "            closed.append([\"null\"])\n",
    "            continue\n",
    "        try:\n",
    "            closed.append(response[\"data\"][index][\"isClosed\"])\n",
    "        except KeyError:\n",
    "            closed.append([\"null\"])\n",
    "            continue\n",
    "time.sleep(5)"
   ]
  },
  {
   "cell_type": "code",
   "execution_count": null,
   "metadata": {},
   "outputs": [],
   "source": [
    "# Count lists\n",
    "len(est), len(names), len(local), len(region), len(country), len(bizstatus), len(closed)"
   ]
  },
  {
   "cell_type": "code",
   "execution_count": null,
   "metadata": {},
   "outputs": [],
   "source": [
    "## NOT NEEDED ##\n",
    "# Print Lists\n",
    "print(est)\n",
    "print(names)\n",
    "print(local)\n",
    "print(region)\n",
    "print(country)\n",
    "print(bizstatus)\n",
    "print(closed)"
   ]
  },
  {
   "cell_type": "code",
   "execution_count": null,
   "metadata": {},
   "outputs": [],
   "source": [
    "# Create a Data Frame\n",
    "brewery_dict = {\n",
    "    \"Brewery Name\": names,\n",
    "    \"City\": local,\n",
    "    \"State\": region,\n",
    "    \"Country\": country,\n",
    "    \"Year Established\": est,\n",
    "    \"In Business?\": bizstatus,\n",
    "    \"Closed?\": closed\n",
    "}\n",
    "brewery_data = pd.DataFrame(brewery_dict)\n",
    "brewery_data.head()"
   ]
  },
  {
   "cell_type": "code",
   "execution_count": null,
   "metadata": {},
   "outputs": [],
   "source": [
    "## NOT NEEDED ##\n",
    "# Double Check Data Count\n",
    "brewery_data.count()"
   ]
  },
  {
   "cell_type": "code",
   "execution_count": null,
   "metadata": {},
   "outputs": [],
   "source": [
    "# Export to CSV file\n",
    "brewery_data.to_csv(\"Output/brewery_data_part2.csv\",\n",
    "                   encoding=\"utf-8\", index=False, header=True)\n"
   ]
  },
  {
   "cell_type": "code",
   "execution_count": null,
   "metadata": {},
   "outputs": [],
   "source": [
    "## Will need to merge Part 1 and Part 2 CSV files into 1 CSV file"
   ]
  }
 ],
 "metadata": {
  "kernelspec": {
   "display_name": "Python 3",
   "language": "python",
   "name": "python3"
  },
  "language_info": {
   "codemirror_mode": {
    "name": "ipython",
    "version": 3
   },
   "file_extension": ".py",
   "mimetype": "text/x-python",
   "name": "python",
   "nbconvert_exporter": "python",
   "pygments_lexer": "ipython3",
   "version": "3.6.6"
  }
 },
 "nbformat": 4,
 "nbformat_minor": 2
}
