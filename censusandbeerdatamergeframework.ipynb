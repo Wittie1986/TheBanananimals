{
 "cells": [
  {
   "cell_type": "code",
   "execution_count": null,
   "metadata": {},
   "outputs": [],
   "source": [
    "#import dependencies\n",
    "\n",
    "import csv\n",
    "import pandas as pd\n",
    "import numpy\n",
    "from scipy import stats"
   ]
  },
  {
   "cell_type": "code",
   "execution_count": null,
   "metadata": {},
   "outputs": [],
   "source": [
    "#import csv's\n",
    "\n",
    "census_1 = pd.read_csv(\"census_df_clean.csv\", encoding = \"ISO-8859-1\")\n",
    "#brewery_1 = pd.read_csv(\"brewery_data-merged.csv\", encoding = \"ISO-8859-1\")"
   ]
  },
  {
   "cell_type": "code",
   "execution_count": null,
   "metadata": {},
   "outputs": [],
   "source": [
    "list(census_1)"
   ]
  },
  {
   "cell_type": "code",
   "execution_count": null,
   "metadata": {},
   "outputs": [],
   "source": [
    "list(brewery_1)"
   ]
  },
  {
   "cell_type": "code",
   "execution_count": null,
   "metadata": {},
   "outputs": [],
   "source": [
    "#if renames are nessecary use the following (commented out codes)\n",
    "\n",
    "# ##df## = ##df##.rename(index=str, columns = {\"\":\"\", \"\":\"\"})\n",
    "\n",
    "#-----------------------------------------------------------------------------------\n",
    "\n",
    "#merge code by left join\n",
    "#main_1 = census_1.merge(brewery_1, how='left', left_on='State', right_on='City')\n",
    "\n",
    "\n",
    "#-----------------------------------------------------------------------------------\n",
    "\n",
    "#for loop to merge data [incomplete]\n",
    "\n",
    "#establish dictionaries\n",
    "\n",
    "\n",
    "#establish containers"
   ]
  }
 ],
 "metadata": {
  "kernelspec": {
   "display_name": "Python 3",
   "language": "python",
   "name": "python3"
  },
  "language_info": {
   "codemirror_mode": {
    "name": "ipython",
    "version": 3
   },
   "file_extension": ".py",
   "mimetype": "text/x-python",
   "name": "python",
   "nbconvert_exporter": "python",
   "pygments_lexer": "ipython3",
   "version": "3.6.6"
  }
 },
 "nbformat": 4,
 "nbformat_minor": 2
}
