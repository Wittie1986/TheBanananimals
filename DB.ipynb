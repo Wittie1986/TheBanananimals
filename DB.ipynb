{
 "cells": [
  {
   "cell_type": "code",
   "execution_count": null,
   "metadata": {},
   "outputs": [],
   "source": [
    "name = 'Harrison'\n",
    "guess = input(\"So I'm thinking of person's name. Try to guess it: \")\n",
    "pos = 0\n",
    "\n",
    "while guess != name and pos < len(name):\n",
    "    print(\"Nope, that's not it! Hint: letter \")\n",
    "    print(pos + 1, \"is\", name[pos] + \". \")\n",
    "    guess = input(\"Guess again: \")\n",
    "    pos = pos + 1\n",
    "\n",
    "if pos == len(name) and name != guess:\n",
    "    print(\"Too bad, you couldn't get it.  The name was\", name + \".\")\n",
    "else:\n",
    "    print(\"\\nGreat, you got it in\", pos + 1,  \"guesses!\")"
   ]
  },
  {
   "cell_type": "code",
   "execution_count": null,
   "metadata": {},
   "outputs": [],
   "source": []
  },
  {
   "cell_type": "code",
   "execution_count": null,
   "metadata": {},
   "outputs": [],
   "source": []
  }
 ],
 "metadata": {
  "kernelspec": {
   "display_name": "Python 3",
   "language": "python",
   "name": "python3"
  },
  "language_info": {
   "codemirror_mode": {
    "name": "ipython",
    "version": 3
   },
   "file_extension": ".py",
   "mimetype": "text/x-python",
   "name": "python",
   "nbconvert_exporter": "python",
   "pygments_lexer": "ipython3",
   "version": "3.6.6"
  }
 },
 "nbformat": 4,
 "nbformat_minor": 2
}
