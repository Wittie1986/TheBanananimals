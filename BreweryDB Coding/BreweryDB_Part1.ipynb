{
 "cells": [
  {
   "cell_type": "code",
   "execution_count": 1,
   "metadata": {},
   "outputs": [],
   "source": [
    "# Dependencies\n",
    "import requests\n",
    "import json\n",
    "import pandas as pd\n",
    "import time"
   ]
  },
  {
   "cell_type": "code",
   "execution_count": 2,
   "metadata": {},
   "outputs": [],
   "source": [
    "#Build URL\n",
    "url = \"https://api.brewerydb.com/v2/locations/\"\n",
    "api_key = \"?key=f5602f16b774b7f79ce6b916acc9000a&p=\"\n",
    "new_url = url + api_key"
   ]
  },
  {
   "cell_type": "code",
   "execution_count": 3,
   "metadata": {},
   "outputs": [],
   "source": [
    "# Lists\n",
    "pages = []\n",
    "#pages = list(range(1,131)) #*try a small number first to avoid overloading API*\n",
    "\n",
    "indexes = []\n",
    "indexes = list(range(0,50))\n",
    "\n",
    "names = []\n",
    "local = []\n",
    "region = []\n",
    "country = []\n",
    "est = []\n",
    "bizstatus = []\n",
    "closed = []    "
   ]
  },
  {
   "cell_type": "code",
   "execution_count": 4,
   "metadata": {},
   "outputs": [],
   "source": [
    "# Request API\n",
    "\n",
    "for page in pages:\n",
    "    response = requests.get(new_url + str(page)).json()\n",
    "    for index in indexes:\n",
    "        try:\n",
    "            est.append(response[\"data\"][index][\"brewery\"][\"established\"])\n",
    "        except KeyError:\n",
    "            indexes.remove(index)\n",
    "            continue\n",
    "        names.append(response[\"data\"][index][\"name\"])\n",
    "        try:\n",
    "            local.append(response[\"data\"][index][\"locality\"])\n",
    "        except KeyError:\n",
    "            local.append([\"null\"])\n",
    "            region.append([\"null\"])\n",
    "            country.append([\"null\"])\n",
    "            bizstatus.append([\"null\"])\n",
    "            closed.append([\"null\"])\n",
    "            continue\n",
    "        try:\n",
    "            region.append(response[\"data\"][index][\"region\"])\n",
    "        except KeyError:\n",
    "            region.append([\"null\"])\n",
    "            country.append([\"null\"])\n",
    "            bizstatus.append([\"null\"])\n",
    "            closed.append([\"null\"])\n",
    "            continue\n",
    "        try:\n",
    "            country.append(response[\"data\"][index][\"country\"][\"name\"])\n",
    "        except KeyError:\n",
    "            country.append([\"null\"])\n",
    "            bizstatus.append([\"null\"])\n",
    "            closed.append([\"null\"])\n",
    "            continue\n",
    "        try:\n",
    "            bizstatus.append(response[\"data\"][index][\"brewery\"][\"isInBusiness\"])\n",
    "        except KeyError:\n",
    "            bizstatus.append([\"null\"])\n",
    "            closed.append([\"null\"])\n",
    "            continue\n",
    "        try:\n",
    "            closed.append(response[\"data\"][index][\"isClosed\"])\n",
    "        except KeyError:\n",
    "            closed.append([\"null\"])\n",
    "            continue\n",
    "time.sleep(5)"
   ]
  },
  {
   "cell_type": "code",
   "execution_count": 5,
   "metadata": {},
   "outputs": [
    {
     "data": {
      "text/plain": [
       "(80, 80, 80, 80, 80, 80, 80)"
      ]
     },
     "execution_count": 5,
     "metadata": {},
     "output_type": "execute_result"
    }
   ],
   "source": [
    "# Count lists\n",
    "len(est), len(names), len(local), len(region), len(country), len(bizstatus), len(closed)"
   ]
  },
  {
   "cell_type": "code",
   "execution_count": 6,
   "metadata": {},
   "outputs": [
    {
     "name": "stdout",
     "output_type": "stream",
     "text": [
      "['1866', '2014', '2016', '1995', '1873', '2013', '2011', '2015', '2000', '2011', '1971', '1983', '1589', '1589', '1589', '1589', '1996', '1992', '2008', '2008', '2008', '2017', '2011', '2013', '1978', '2015', '1976', '1978', '2011', '2013', '2017', '2018', '2017', '2013', '2017', '1996', '1996', '1996', '1996', '1996', '1895', '2016', '2018', '2016', '1978', '2011', '1983', '2011', '2016', '1996', '1998', '1978', '2015', '2010', '1978', '1986', '1971', '1978', '2015', '2018', '1971', '2005', '1994', '1973', '2016', '2013', '2016', '1986', '2016', '2013', '2018', '2012', '2011', '1998', '2013', '1998', '1998', '1998', '1988', '2013']\n",
      "['Headquarters', 'Headquarters', \"Heaven's Gate Brewery\", 'Heavy Seas Alehouse - Baltimore', 'Heineken Experience', 'Heritage Brewing Co.', 'Hickory Location', 'High Perch Brewing Company', 'High Point', 'High Water Brewing', 'Highlands Ranch', 'Hillsdale Brewery', 'Hofbräuhaus Chicago', 'Hofbräuhaus Columbus', 'Hofbräuhaus Las Vegas', 'Hofbräuhaus Newport', 'Home Brew Mart', 'Honeyrun Winery & Honey Company', 'HopCat', 'HopCat Detroit', 'HopCat Madison', 'HopFly Brewing Company', 'Hops Bar & Grill / Down the Alley / Still Cocktail Bar', 'House Bear Brewing', 'Houston (willowbrook)', \"Hunter's Handmade Brewery\", 'Huntington Beach', 'Huntington Beach', 'Huntington Beach Tap Room', 'Hyappa Brews', 'Icarus Brewing', 'Imperial Western Beer Company', 'Industria de Bebidas Cervejarte', 'Intermission Beer Company', 'Inventors Brewpub', 'Iron Hill Brewery & Restaurant  - Lancaster', 'Iron Hill Brewery & Restaurant - Center City', 'Iron Hill Brewery & Restaurant - Greenville', 'Iron Hill Brewery & Restaurant - Huntingdon Valley', 'Iron Hill Brewery & Restaurant - West Chester', 'Irwindale Brewery', 'Island Dog Brewing', 'Ivanhoe Park Brewing Co.', 'Jacked Up Brewery', 'Jacksonville', 'Jeremiah Johnson Brewing Co.', 'John Barleycorns Brewery', 'Kane Brewing Co.', 'käretäs brewing', 'Kennett Square', 'King of Prussia', 'Kissimmee', 'Koholā Brewery', 'La Cruces Taproom', 'La Mesa', 'Labège', 'Lacey', 'Laguna Beach', 'Lake Charlevoix', 'Lakes Austin Ales', 'Lakewood', 'Lancaster Brewery', 'Layton', \"Le Lion d'Or\", 'Legends Brewery', 'Lewisville', \"Liar's Bench Beer Co.\", 'Lille', 'Lo Rez Brewing and Taproom', 'Logan Tasting Room', 'Look Long Brewing Company', 'Los Angeles - The Dankness Dojo', 'Lost Colony Brewery', 'Loveland Centerra Promenade', 'Lowercase Brewing - Production Facility', 'Macedonian Thrace Brewery', \"Mad Anthony's Lakeview Alehouse and Reception Hall\", 'Main Brewery', 'Main Brewery', 'Main Brewery']\n",
      "['Saint-Omer', 'Lisboa', 'Riggins', 'Baltimore', 'Amsterdam', 'Manassas', 'Hickory', 'Amsterdam', 'High Point', 'Pittsburg', 'Highlands Ranch', 'Portland', 'Rosemont', 'Columbus', 'Las Vegas', 'Newport', 'San Diego', 'Chico', 'Royal Oak', 'Detroit', 'Madison', 'Rocky Mount', 'Doylestown', 'Newburyport', 'Houston', 'Mount Pleasant', 'Huntington Beach', 'Huntington Beach', 'Huntington Beach', 'Gamagori-shi', 'Lakewood', 'Los Angeles', ['null'], 'Glen Allen', 'Port Washington,', 'Lancaster', 'Philadelphia', 'Greenville', 'Huntingdon Valley', 'West Chester', 'Irwindale', 'South Portland', 'Orlando', 'Escondido', 'Jacksonville', 'Great Falls', 'Tigard', 'Ocean Township', 'Itasca', 'Kennett Square', 'King of Prussia', 'Kissimmee', 'Lahaina', 'Las Cruces', 'La Mesa', 'Labège Cedex', 'Lacey', 'Laguna Beach', 'Charlevoix', 'Austin', 'Lakewood', 'Lancaster', 'Layton', 'Sherbrooke', 'Pretoria', 'Lewisville', 'Portsmouth', 'Lille', 'Chicago', 'San Diego', 'POrtland', 'Los Angeles', 'Manteo', 'Loveland', 'Seattle', 'Komotini', 'Angola', 'Urbana', 'Independence', ['null']]\n",
      "[['null'], ['null'], 'Idaho', 'Maryland', 'Noord-Holland', 'Virginia', 'North Carolina', 'New York', 'North Carolina', 'California', 'Colorado', 'Oregon', 'Illinois', 'Ohio', 'Nevada', 'Kentucky', 'California', 'California', 'Michigan', 'Michigan', 'Wisconsin', 'North Carolina', 'Pennsylvania', 'Massachusetts', 'Texas', 'Michigan', 'California', 'California', 'California', 'Aichi Prefecture', 'New Jersey', 'California', ['null'], 'Virginia', 'Wisconsin', 'Pennsylvania', 'Pennsylvania', 'South Carolina', 'Pennsylvania', 'Pennsylvania', 'California', 'Maine', 'Florida', 'California', 'Florida', 'Montana', 'Oregon', 'New Jersey', 'Illinois', 'Pennsylvania', 'Pennsylvania', 'Florida', 'Hawaii', 'New Mexico', 'California', 'Toulouse', 'Washington', 'California', 'Michigan', 'Texas', 'Washington', 'Lancashire', 'Utah', 'Québec', 'Gauteng Province', 'Texas', 'New Hampshire', ['null'], 'Illinois', 'California', 'Oregon', 'California', 'North Carolina', 'Colorado', 'Washington', 'Northern Greece', 'Indiana', 'Illinois', 'Oregon', ['null']]\n",
      "[['null'], ['null'], 'UNITED STATES', 'UNITED STATES', 'NETHERLANDS', 'UNITED STATES', 'UNITED STATES', 'UNITED STATES', 'UNITED STATES', 'UNITED STATES', 'UNITED STATES', 'UNITED STATES', 'UNITED STATES', 'UNITED STATES', 'UNITED STATES', 'UNITED STATES', 'UNITED STATES', 'UNITED STATES', 'UNITED STATES', 'UNITED STATES', 'UNITED STATES', 'UNITED STATES', 'UNITED STATES', 'UNITED STATES', 'UNITED STATES', 'UNITED STATES', 'UNITED STATES', 'UNITED STATES', 'UNITED STATES', 'JAPAN', 'UNITED STATES', 'UNITED STATES', ['null'], 'UNITED STATES', 'UNITED STATES', 'UNITED STATES', 'UNITED STATES', 'UNITED STATES', 'UNITED STATES', 'UNITED STATES', 'UNITED STATES', 'UNITED STATES', 'UNITED STATES', 'UNITED STATES', 'UNITED STATES', 'UNITED STATES', 'UNITED STATES', 'UNITED STATES', 'UNITED STATES', 'UNITED STATES', 'UNITED STATES', 'UNITED STATES', 'UNITED STATES', 'UNITED STATES', 'UNITED STATES', 'FRANCE', 'UNITED STATES', 'UNITED STATES', 'UNITED STATES', 'UNITED STATES', 'UNITED STATES', 'UNITED KINGDOM', 'UNITED STATES', 'CANADA', 'SOUTH AFRICA', 'UNITED STATES', 'UNITED STATES', ['null'], 'UNITED STATES', 'UNITED STATES', 'UNITED STATES', 'UNITED STATES', 'UNITED STATES', 'UNITED STATES', 'UNITED STATES', 'GREECE', 'UNITED STATES', 'UNITED STATES', 'UNITED STATES', ['null']]\n",
      "[['null'], ['null'], 'Y', 'Y', 'Y', 'Y', 'Y', 'Y', 'Y', 'Y', 'Y', 'Y', 'Y', 'Y', 'Y', 'Y', 'Y', 'Y', 'Y', 'Y', 'Y', 'Y', 'Y', 'Y', 'Y', 'Y', 'Y', 'Y', 'Y', 'Y', 'Y', 'Y', ['null'], 'Y', 'Y', 'Y', 'Y', 'Y', 'Y', 'Y', 'Y', 'Y', 'Y', 'Y', 'Y', 'Y', 'Y', 'Y', 'Y', 'Y', 'Y', 'Y', 'Y', 'Y', 'Y', 'Y', 'Y', 'Y', 'Y', 'Y', 'Y', 'Y', 'Y', 'Y', 'Y', 'Y', 'Y', ['null'], 'Y', 'Y', 'Y', 'Y', 'Y', 'Y', 'Y', 'Y', 'Y', 'N', 'Y', ['null']]\n",
      "[['null'], ['null'], 'N', 'Y', 'N', 'N', 'N', 'N', 'N', 'N', 'N', 'N', 'N', 'N', 'N', 'N', 'N', 'N', 'N', 'N', 'N', 'N', 'N', 'N', 'N', 'N', 'N', 'N', 'N', 'N', 'N', 'N', ['null'], 'N', 'N', 'N', 'N', 'N', 'N', 'N', 'N', 'N', 'N', 'N', 'N', 'N', 'N', 'N', 'N', 'N', 'Y', 'N', 'N', 'N', 'N', 'N', 'N', 'N', 'N', 'N', 'N', 'N', 'N', 'N', 'N', 'N', 'N', ['null'], 'N', 'N', 'N', 'N', 'N', 'N', 'N', 'N', 'N', 'Y', 'N', ['null']]\n"
     ]
    }
   ],
   "source": [
    "## NOT NEEDED ##\n",
    "# Print Lists\n",
    "print(est)\n",
    "print(names)\n",
    "print(local)\n",
    "print(region)\n",
    "print(country)\n",
    "print(bizstatus)\n",
    "print(closed)"
   ]
  },
  {
   "cell_type": "code",
   "execution_count": 7,
   "metadata": {},
   "outputs": [
    {
     "data": {
      "text/html": [
       "<div>\n",
       "<style scoped>\n",
       "    .dataframe tbody tr th:only-of-type {\n",
       "        vertical-align: middle;\n",
       "    }\n",
       "\n",
       "    .dataframe tbody tr th {\n",
       "        vertical-align: top;\n",
       "    }\n",
       "\n",
       "    .dataframe thead th {\n",
       "        text-align: right;\n",
       "    }\n",
       "</style>\n",
       "<table border=\"1\" class=\"dataframe\">\n",
       "  <thead>\n",
       "    <tr style=\"text-align: right;\">\n",
       "      <th></th>\n",
       "      <th>Brewery Name</th>\n",
       "      <th>City</th>\n",
       "      <th>State</th>\n",
       "      <th>Country</th>\n",
       "      <th>Year Established</th>\n",
       "      <th>In Business?</th>\n",
       "      <th>Closed?</th>\n",
       "    </tr>\n",
       "  </thead>\n",
       "  <tbody>\n",
       "    <tr>\n",
       "      <th>0</th>\n",
       "      <td>Headquarters</td>\n",
       "      <td>Saint-Omer</td>\n",
       "      <td>[null]</td>\n",
       "      <td>[null]</td>\n",
       "      <td>1866</td>\n",
       "      <td>[null]</td>\n",
       "      <td>[null]</td>\n",
       "    </tr>\n",
       "    <tr>\n",
       "      <th>1</th>\n",
       "      <td>Headquarters</td>\n",
       "      <td>Lisboa</td>\n",
       "      <td>[null]</td>\n",
       "      <td>[null]</td>\n",
       "      <td>2014</td>\n",
       "      <td>[null]</td>\n",
       "      <td>[null]</td>\n",
       "    </tr>\n",
       "    <tr>\n",
       "      <th>2</th>\n",
       "      <td>Heaven's Gate Brewery</td>\n",
       "      <td>Riggins</td>\n",
       "      <td>Idaho</td>\n",
       "      <td>UNITED STATES</td>\n",
       "      <td>2016</td>\n",
       "      <td>Y</td>\n",
       "      <td>N</td>\n",
       "    </tr>\n",
       "    <tr>\n",
       "      <th>3</th>\n",
       "      <td>Heavy Seas Alehouse - Baltimore</td>\n",
       "      <td>Baltimore</td>\n",
       "      <td>Maryland</td>\n",
       "      <td>UNITED STATES</td>\n",
       "      <td>1995</td>\n",
       "      <td>Y</td>\n",
       "      <td>Y</td>\n",
       "    </tr>\n",
       "    <tr>\n",
       "      <th>4</th>\n",
       "      <td>Heineken Experience</td>\n",
       "      <td>Amsterdam</td>\n",
       "      <td>Noord-Holland</td>\n",
       "      <td>NETHERLANDS</td>\n",
       "      <td>1873</td>\n",
       "      <td>Y</td>\n",
       "      <td>N</td>\n",
       "    </tr>\n",
       "  </tbody>\n",
       "</table>\n",
       "</div>"
      ],
      "text/plain": [
       "                      Brewery Name        City          State        Country  \\\n",
       "0                     Headquarters  Saint-Omer         [null]         [null]   \n",
       "1                     Headquarters      Lisboa         [null]         [null]   \n",
       "2            Heaven's Gate Brewery     Riggins          Idaho  UNITED STATES   \n",
       "3  Heavy Seas Alehouse - Baltimore   Baltimore       Maryland  UNITED STATES   \n",
       "4              Heineken Experience   Amsterdam  Noord-Holland    NETHERLANDS   \n",
       "\n",
       "  Year Established In Business? Closed?  \n",
       "0             1866       [null]  [null]  \n",
       "1             2014       [null]  [null]  \n",
       "2             2016            Y       N  \n",
       "3             1995            Y       Y  \n",
       "4             1873            Y       N  "
      ]
     },
     "execution_count": 7,
     "metadata": {},
     "output_type": "execute_result"
    }
   ],
   "source": [
    "# Create a Data Frame\n",
    "brewery_dict = {\n",
    "    \"Brewery Name\": names,\n",
    "    \"City\": local,\n",
    "    \"State\": region,\n",
    "    \"Country\": country,\n",
    "    \"Year Established\": est,\n",
    "    \"In Business?\": bizstatus,\n",
    "    \"Closed?\": closed\n",
    "}\n",
    "brewery_data = pd.DataFrame(brewery_dict)\n",
    "brewery_data.head()"
   ]
  },
  {
   "cell_type": "code",
   "execution_count": 8,
   "metadata": {},
   "outputs": [
    {
     "data": {
      "text/plain": [
       "Brewery Name        80\n",
       "City                80\n",
       "State               80\n",
       "Country             80\n",
       "Year Established    80\n",
       "In Business?        80\n",
       "Closed?             80\n",
       "dtype: int64"
      ]
     },
     "execution_count": 8,
     "metadata": {},
     "output_type": "execute_result"
    }
   ],
   "source": [
    "## NOT NEEDED ##\n",
    "# Double Check Data Count\n",
    "brewery_data.count()"
   ]
  },
  {
   "cell_type": "code",
   "execution_count": 9,
   "metadata": {},
   "outputs": [],
   "source": [
    "# Export to CSV file\n",
    "brewery_data.to_csv(\"Output/brewery_data_page24-43.csv\",\n",
    "                   encoding=\"utf-8\", index=False, header=True)\n"
   ]
  },
  {
   "cell_type": "code",
   "execution_count": null,
   "metadata": {},
   "outputs": [],
   "source": [
    "## Will need to pull Part 2 of data with another account or wait until next day. API limit is 200/day"
   ]
  },
  {
   "cell_type": "code",
   "execution_count": null,
   "metadata": {},
   "outputs": [],
   "source": []
  }
 ],
 "metadata": {
  "kernelspec": {
   "display_name": "Python 3",
   "language": "python",
   "name": "python3"
  },
  "language_info": {
   "codemirror_mode": {
    "name": "ipython",
    "version": 3
   },
   "file_extension": ".py",
   "mimetype": "text/x-python",
   "name": "python",
   "nbconvert_exporter": "python",
   "pygments_lexer": "ipython3",
   "version": "3.6.6"
  }
 },
 "nbformat": 4,
 "nbformat_minor": 2
}
