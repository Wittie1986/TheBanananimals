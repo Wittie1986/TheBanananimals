{
 "cells": [
  {
   "cell_type": "code",
   "execution_count": 120,
   "metadata": {},
   "outputs": [],
   "source": [
    "#Dependencies\n",
    "\n",
    "import requests\n",
    "import json\n",
    "import pandas as pd\n",
    "import time"
   ]
  },
  {
   "cell_type": "code",
   "execution_count": 121,
   "metadata": {},
   "outputs": [],
   "source": [
    "#Build URL\n",
    "\n",
    "url = \"https://api.brewerydb.com/v2/locations/\"\n",
    "api_key = \"?key=f5602f16b774b7f79ce6b916acc9000a&p=\"\n",
    "new_url = url + api_key\n"
   ]
  },
  {
   "cell_type": "code",
   "execution_count": 122,
   "metadata": {},
   "outputs": [],
   "source": [
    "pages = []\n",
    "pages = list(range(100,110))\n",
    "\n",
    "indexes = []\n",
    "indexes = list(range(0,50))\n",
    "\n",
    "names = []\n",
    "local = []\n",
    "region = []\n",
    "country = []\n",
    "est = []\n",
    "bizstatus = []\n",
    "closed = []"
   ]
  },
  {
   "cell_type": "code",
   "execution_count": 123,
   "metadata": {},
   "outputs": [],
   "source": [
    "for page in pages:\n",
    "    response = requests.get(new_url + str(page)).json()\n",
    "    for index in indexes:\n",
    "        try:\n",
    "            est.append(response[\"data\"][index][\"brewery\"][\"established\"])\n",
    "        except KeyError:\n",
    "            indexes.remove(index)\n",
    "            continue\n",
    "        names.append(response[\"data\"][index][\"name\"])\n",
    "        try:\n",
    "            local.append(response[\"data\"][index][\"locality\"])\n",
    "        except KeyError:\n",
    "            local.append([\"null\"])\n",
    "            region.append([\"null\"])\n",
    "            country.append([\"null\"])\n",
    "            bizstatus.append([\"null\"])\n",
    "            closed.append([\"null\"])\n",
    "            continue\n",
    "        try:\n",
    "            region.append(response[\"data\"][index][\"region\"])\n",
    "        except KeyError:\n",
    "            region.append([\"null\"])\n",
    "            country.append([\"null\"])\n",
    "            bizstatus.append([\"null\"])\n",
    "            closed.append([\"null\"])\n",
    "            continue\n",
    "        try:\n",
    "            country.append(response[\"data\"][index][\"country\"][\"name\"])\n",
    "        except KeyError:\n",
    "            country.append([\"null\"])\n",
    "            bizstatus.append([\"null\"])\n",
    "            closed.append([\"null\"])\n",
    "            continue\n",
    "        try:\n",
    "            bizstatus.append(response[\"data\"][index][\"brewery\"][\"isInBusiness\"])\n",
    "        except KeyError:\n",
    "            bizstatus.append([\"null\"])\n",
    "            closed.append([\"null\"])\n",
    "            continue\n",
    "        try:\n",
    "            closed.append(response[\"data\"][index][\"isClosed\"])\n",
    "        except KeyError:\n",
    "            closed.append([\"null\"])\n",
    "            continue\n",
    "    time.sleep(5)"
   ]
  },
  {
   "cell_type": "code",
   "execution_count": 124,
   "metadata": {},
   "outputs": [
    {
     "data": {
      "text/plain": [
       "(39, 39, 39, 39, 39, 39, 39)"
      ]
     },
     "execution_count": 124,
     "metadata": {},
     "output_type": "execute_result"
    }
   ],
   "source": [
    "len(est), len(names), len(local), len(region), len(country), len(bizstatus), len(closed)\n"
   ]
  },
  {
   "cell_type": "code",
   "execution_count": 125,
   "metadata": {},
   "outputs": [
    {
     "name": "stdout",
     "output_type": "stream",
     "text": [
      "['2010', '2014', '2014', '2014', '1997', '1984', '2010', '1861', '2012', '2005', '2014', '2010', '2012', '2010', '2015', '2017', '2018', '2018', '2010', '2008', '2012', '2013', '2014', '2015', '1997', '2001', '2012', '2016', '2007', '2008', '2012', '1978', '2008', '2013', '1766', '2007', '1864', '2011', '1995']\n",
      "['Main Brewery', 'Main Brewery', 'Main Brewery', 'Main Brewery', 'Main Brewery', 'Main Brewery', 'Main Brewery', 'Main Brewery', 'Main Brewery', 'Main Brewery', 'Main Brewery', 'Main Brewery', 'Main Brewery', 'Main Brewery', 'Main Brewery', 'Main Brewery', 'Main Brewery', 'Main Brewery', 'Main Brewery', 'Main Brewery', 'Main Brewery', 'Main Brewery', 'Main Brewery', 'Main Brewery', 'Main Brewery', 'Main Brewery', 'Main Brewery', 'Main Brewery', 'Main Brewery', 'Main Brewery', 'Main Brewery', 'Main Brewery', 'Main Brewery', 'Main Brewery', 'Main Brewery', 'Main Brewery', 'Main Brewery', 'Main Brewery', 'Main Brewery']\n",
      "['Covington', 'Colorado Springs', 'Houston', 'Fort Wayne', 'Los Angeles', 'Pickering', 'Corvallis', 'Köthen', 'Mount Airy', 'Bright', ['null'], ['null'], 'Centerville', 'Seattle', 'Pilot Point', 'Pensacola', 'Burbank', 'Greeley', 'Indianapolis', 'Carson', 'Austin', 'Torrance', 'Tampa', 'Hesperia', 'Minneapolis', 'Kill Devil Hills', 'Speedway', 'Taylors', 'Spearfish', 'Waconia', 'Marion', 'Lancaster', 'Sainte Genevieve', 'Rincon', 'Treviso', 'San Diego', 'Aalen', ['null'], 'San Diego']\n",
      "['Louisiana', 'Colorado', 'Texas', 'Indiana', 'California', 'North Yorkshire', 'Oregon', ['null'], 'Maryland', 'Victoria', ['null'], ['null'], 'Ohio', 'Washington', 'Texas', 'Florida', 'California', 'Colorado', 'Indiana', 'Washington', 'Texas', 'California', 'Florida', 'California', 'Minnesota', 'North Carolina', 'Indiana', 'South Carolina', 'South Dakota', 'Minnesota', 'Wisconsin', 'Pennsylvania', 'Missouri', 'Puerto Rico', ['null'], 'California', ['null'], ['null'], 'California']\n",
      "['UNITED STATES', 'UNITED STATES', 'UNITED STATES', 'UNITED STATES', 'UNITED STATES', 'UNITED KINGDOM', 'UNITED STATES', ['null'], 'UNITED STATES', 'AUSTRALIA', ['null'], ['null'], 'UNITED STATES', 'UNITED STATES', 'UNITED STATES', 'UNITED STATES', 'UNITED STATES', 'UNITED STATES', 'UNITED STATES', 'UNITED STATES', 'UNITED STATES', 'UNITED STATES', 'UNITED STATES', 'UNITED STATES', 'UNITED STATES', 'UNITED STATES', 'UNITED STATES', 'UNITED STATES', 'UNITED STATES', 'UNITED STATES', 'UNITED STATES', 'UNITED STATES', 'UNITED STATES', 'UNITED STATES', ['null'], 'UNITED STATES', ['null'], ['null'], 'UNITED STATES']\n",
      "['Y', 'Y', 'Y', 'Y', 'Y', 'Y', 'Y', ['null'], 'Y', 'Y', ['null'], ['null'], 'Y', 'Y', 'Y', 'Y', 'Y', 'Y', 'Y', 'N', 'Y', 'Y', 'Y', 'Y', 'Y', 'Y', 'Y', 'Y', 'Y', 'Y', 'Y', 'Y', 'Y', 'Y', ['null'], 'Y', ['null'], ['null'], 'Y']\n",
      "['N', 'N', 'N', 'N', 'N', 'N', 'N', ['null'], 'N', 'N', ['null'], ['null'], 'N', 'N', 'N', 'N', 'N', 'N', 'N', 'Y', 'N', 'N', 'N', 'N', 'N', 'N', 'N', 'N', 'N', 'N', 'N', 'N', 'N', 'N', ['null'], 'N', ['null'], ['null'], 'N']\n"
     ]
    }
   ],
   "source": [
    "print(est)\n",
    "print(names)\n",
    "print(local)\n",
    "print(region)\n",
    "print(country)\n",
    "print(bizstatus)\n",
    "print(closed)"
   ]
  },
  {
   "cell_type": "code",
   "execution_count": 126,
   "metadata": {},
   "outputs": [
    {
     "data": {
      "text/html": [
       "<div>\n",
       "<style scoped>\n",
       "    .dataframe tbody tr th:only-of-type {\n",
       "        vertical-align: middle;\n",
       "    }\n",
       "\n",
       "    .dataframe tbody tr th {\n",
       "        vertical-align: top;\n",
       "    }\n",
       "\n",
       "    .dataframe thead th {\n",
       "        text-align: right;\n",
       "    }\n",
       "</style>\n",
       "<table border=\"1\" class=\"dataframe\">\n",
       "  <thead>\n",
       "    <tr style=\"text-align: right;\">\n",
       "      <th></th>\n",
       "      <th>Brewery Name</th>\n",
       "      <th>City</th>\n",
       "      <th>State</th>\n",
       "      <th>Country</th>\n",
       "      <th>Year Established</th>\n",
       "      <th>In Business?</th>\n",
       "      <th>Closed?</th>\n",
       "    </tr>\n",
       "  </thead>\n",
       "  <tbody>\n",
       "    <tr>\n",
       "      <th>0</th>\n",
       "      <td>Main Brewery</td>\n",
       "      <td>Covington</td>\n",
       "      <td>Louisiana</td>\n",
       "      <td>UNITED STATES</td>\n",
       "      <td>2010</td>\n",
       "      <td>Y</td>\n",
       "      <td>N</td>\n",
       "    </tr>\n",
       "    <tr>\n",
       "      <th>1</th>\n",
       "      <td>Main Brewery</td>\n",
       "      <td>Colorado Springs</td>\n",
       "      <td>Colorado</td>\n",
       "      <td>UNITED STATES</td>\n",
       "      <td>2014</td>\n",
       "      <td>Y</td>\n",
       "      <td>N</td>\n",
       "    </tr>\n",
       "    <tr>\n",
       "      <th>2</th>\n",
       "      <td>Main Brewery</td>\n",
       "      <td>Houston</td>\n",
       "      <td>Texas</td>\n",
       "      <td>UNITED STATES</td>\n",
       "      <td>2014</td>\n",
       "      <td>Y</td>\n",
       "      <td>N</td>\n",
       "    </tr>\n",
       "    <tr>\n",
       "      <th>3</th>\n",
       "      <td>Main Brewery</td>\n",
       "      <td>Fort Wayne</td>\n",
       "      <td>Indiana</td>\n",
       "      <td>UNITED STATES</td>\n",
       "      <td>2014</td>\n",
       "      <td>Y</td>\n",
       "      <td>N</td>\n",
       "    </tr>\n",
       "    <tr>\n",
       "      <th>4</th>\n",
       "      <td>Main Brewery</td>\n",
       "      <td>Los Angeles</td>\n",
       "      <td>California</td>\n",
       "      <td>UNITED STATES</td>\n",
       "      <td>1997</td>\n",
       "      <td>Y</td>\n",
       "      <td>N</td>\n",
       "    </tr>\n",
       "  </tbody>\n",
       "</table>\n",
       "</div>"
      ],
      "text/plain": [
       "   Brewery Name              City       State        Country Year Established  \\\n",
       "0  Main Brewery         Covington   Louisiana  UNITED STATES             2010   \n",
       "1  Main Brewery  Colorado Springs    Colorado  UNITED STATES             2014   \n",
       "2  Main Brewery           Houston       Texas  UNITED STATES             2014   \n",
       "3  Main Brewery        Fort Wayne     Indiana  UNITED STATES             2014   \n",
       "4  Main Brewery       Los Angeles  California  UNITED STATES             1997   \n",
       "\n",
       "  In Business? Closed?  \n",
       "0            Y       N  \n",
       "1            Y       N  \n",
       "2            Y       N  \n",
       "3            Y       N  \n",
       "4            Y       N  "
      ]
     },
     "execution_count": 126,
     "metadata": {},
     "output_type": "execute_result"
    }
   ],
   "source": [
    "brewery_dict = {\n",
    "    \"Brewery Name\": names,\n",
    "    \"City\": local,\n",
    "    \"State\": region,\n",
    "    \"Country\": country,\n",
    "    \"Year Established\": est,\n",
    "    \"In Business?\": bizstatus,\n",
    "    \"Closed?\": closed\n",
    "}\n",
    "\n",
    "brewery_data = pd.DataFrame(brewery_dict)\n",
    "brewery_data.head()\n"
   ]
  },
  {
   "cell_type": "code",
   "execution_count": 127,
   "metadata": {},
   "outputs": [
    {
     "data": {
      "text/plain": [
       "Brewery Name        39\n",
       "City                39\n",
       "State               39\n",
       "Country             39\n",
       "Year Established    39\n",
       "In Business?        39\n",
       "Closed?             39\n",
       "dtype: int64"
      ]
     },
     "execution_count": 127,
     "metadata": {},
     "output_type": "execute_result"
    }
   ],
   "source": [
    "brewery_data.count()"
   ]
  },
  {
   "cell_type": "code",
   "execution_count": 128,
   "metadata": {},
   "outputs": [],
   "source": [
    "brewery_data.to_csv(\"Output/brewery_data_110.csv\",\n",
    "                   encoding=\"utf-8\", index=False, header=True)"
   ]
  },
  {
   "cell_type": "code",
   "execution_count": null,
   "metadata": {},
   "outputs": [],
   "source": []
  }
 ],
 "metadata": {
  "kernelspec": {
   "display_name": "Python 3",
   "language": "python",
   "name": "python3"
  },
  "language_info": {
   "codemirror_mode": {
    "name": "ipython",
    "version": 3
   },
   "file_extension": ".py",
   "mimetype": "text/x-python",
   "name": "python",
   "nbconvert_exporter": "python",
   "pygments_lexer": "ipython3",
   "version": "3.6.6"
  }
 },
 "nbformat": 4,
 "nbformat_minor": 2
}
