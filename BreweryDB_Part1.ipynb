{
 "cells": [
  {
   "cell_type": "code",
   "execution_count": 1,
   "metadata": {},
   "outputs": [],
   "source": [
    "# Dependencies\n",
    "import requests\n",
    "import json\n",
    "import pandas as pd"
   ]
  },
  {
   "cell_type": "code",
   "execution_count": 2,
   "metadata": {},
   "outputs": [],
   "source": [
    "#Build URL\n",
    "url = \"https://api.brewerydb.com/v2/locations/\"\n",
    "api_key = \"?key=ce9e2cd34af4e3038e4d25477173db69&p=\"\n",
    "new_url = url + api_key"
   ]
  },
  {
   "cell_type": "code",
   "execution_count": 3,
   "metadata": {},
   "outputs": [],
   "source": [
    "# Lists\n",
    "pages = []\n",
    "####pages = list(range(1,150)) *try a small number first to avoid overloading API*\n",
    "\n",
    "indexes = []\n",
    "indexes = list(range(0,50))\n",
    "\n",
    "names = []\n",
    "local = []\n",
    "region = []\n",
    "country = []\n",
    "est = []\n",
    "bizstatus = []\n",
    "closed = []    "
   ]
  },
  {
   "cell_type": "code",
   "execution_count": 4,
   "metadata": {},
   "outputs": [],
   "source": [
    "# Request API\n",
    "\n",
    "for page in pages:\n",
    "    response = requests.get(new_url + str(page)).json()\n",
    "    for index in indexes:\n",
    "        try:\n",
    "            est.append(response[\"data\"][index][\"brewery\"][\"established\"])\n",
    "        except KeyError:\n",
    "            indexes.remove(index)\n",
    "            continue\n",
    "        names.append(response[\"data\"][index][\"name\"])\n",
    "        try:\n",
    "            local.append(response[\"data\"][index][\"locality\"])\n",
    "        except KeyError:\n",
    "            local.append([\"null\"])\n",
    "            region.append([\"null\"])\n",
    "            country.append([\"null\"])\n",
    "            bizstatus.append([\"null\"])\n",
    "            closed.append([\"null\"])\n",
    "            continue\n",
    "        try:\n",
    "            region.append(response[\"data\"][index][\"region\"])\n",
    "        except KeyError:\n",
    "            region.append([\"null\"])\n",
    "            country.append([\"null\"])\n",
    "            bizstatus.append([\"null\"])\n",
    "            closed.append([\"null\"])\n",
    "            continue\n",
    "        try:\n",
    "            country.append(response[\"data\"][index][\"country\"][\"name\"])\n",
    "        except KeyError:\n",
    "            country.append([\"null\"])\n",
    "            bizstatus.append([\"null\"])\n",
    "            closed.append([\"null\"])\n",
    "            continue\n",
    "        try:\n",
    "            bizstatus.append(response[\"data\"][index][\"brewery\"][\"isInBusiness\"])\n",
    "        except KeyError:\n",
    "            bizstatus.append([\"null\"])\n",
    "            closed.append([\"null\"])\n",
    "            continue\n",
    "        try:\n",
    "            closed.append(response[\"data\"][index][\"isClosed\"])\n",
    "        except KeyError:\n",
    "            closed.append([\"null\"])\n",
    "            continue"
   ]
  },
  {
   "cell_type": "code",
   "execution_count": 5,
   "metadata": {},
   "outputs": [
    {
     "data": {
      "text/plain": [
       "(114, 114, 114, 114, 114, 114, 114)"
      ]
     },
     "execution_count": 5,
     "metadata": {},
     "output_type": "execute_result"
    }
   ],
   "source": [
    "# Count lists\n",
    "len(est), len(names), len(local), len(region), len(country), len(bizstatus), len(closed)"
   ]
  },
  {
   "cell_type": "code",
   "execution_count": 6,
   "metadata": {},
   "outputs": [
    {
     "name": "stdout",
     "output_type": "stream",
     "text": [
      "['2014', '2011', '2016', '1989', '2012', '2013', '2016', '2014', '2014', '2007', '2017', '2016', '2016', '2013', '2017', '2013', '2013', '1994', '2018', '1895', '2017', '1978', '2013', '2016', '1986', '1994', '2012', '2014', '2018', '1986', '1951', '2009', '2000', '2016', '1978', '1996', '2010', '2010', '2014', '1998', '1980', '2014', '2012', '1997', '1997', '1997', '2016', '1978', '2013', '1978', '1993', '2015', '2015', '2014', '2014', '2014', '1852', '1996', '2006', '1992', '2011', '1996', '1983', '2017', '2007', '1993', '2006', '1993', '2015', '1992', '1996', '2012', '1978', '2012', '2006', '2013', '1998', '1989', '2016', '2010', '2008', '2017', '2015', '2009', '1994', '2012', '1997', '2014', '2012', '2014', '1992', '2017', '2009', '2006', '1845', '2017', '1865', '1823', '2013', '1978', '2018', '2016', '1995', '2010', '2012', '2012', '2014', '2007', '2010', '2016', '2007', '1978', '1978', '1971']\n",
      "['4 Seasons Brewery', '40 North Brewing', '4kd Crick Brewery', '4S Ranch', '7 Cent Brewing', '7 Fjell Bryggeri', '7 Mile Brewery', '810 Meadworks', '84th Street Brewing Company', 'Abashiri Beer', 'Aberrant Ales', 'Able Baker Brewing Company', 'Accomplice Beer Company', 'Addison', 'Adobe Creek Brewing Company', 'Adventure Brewing North', 'Adventure Brewing South', 'Alagoinhas', 'Alaro Craft Brewery', 'Albany Brewery', 'AleCraft Brewery', 'Allen', 'Altitude Brewing', 'Altstadt Brewery', 'Amiens', 'Amos Howards Brew Pub', 'Amy Seibel', 'Angry Horse Brewing', 'Angry James Brewery', 'Anjou', 'Appalachian Flatbread Co.', 'Apple Tree Cider Company', 'Applewood Farm Winery', 'Aqua', 'Arcadia', 'Arcadia Brewing Company Kalamazoo', 'Argus Cidery', 'Armadillo Ale Works', 'Around the Bend Beer Co.', 'Arrowhead', 'Asheville', 'Ashuelot Brewing Company', 'Aslan Brewing Company', 'Atlanta Brewhouse', 'Atwater Grand Rapids', 'Atwater in the Park', 'Atwood Ales Farm Brewery', 'Aurora', 'Austin', 'Austin (arbor Walk)', 'Avery Brewing Co.', 'Axle Brewing Company', 'Badass Backyard CDA', 'Baere Brewing Company', 'Baffin Brewing Company', 'Bagby Beer Company', 'Baldwinsville', 'Ballast Point Long Beach', 'Balmoral Taproom', \"Barley's Ale House #1\", 'Barrel House', 'Barrelworks', 'Bartlett Maine Estate Winery', 'Basserie Caquot', 'Bay Bridge Brewing', 'BBC 3rd and Main', 'Beaus Brewery', 'Beaverton', 'Beer Army Outpost', 'Beer Hall & Brewery', 'Bel Air', 'Belching Beaver Brewery Tavern & Grill', 'Belmont Shore', 'Benchmark Brewing Company', 'Bend Pub', \"Beryl's Beer Co\", 'Bethesda', 'Bielefeld', 'Bière de Mac Brew Works', 'Biergarten', 'Bikebar', 'Biker Brewhouse, LLC', 'Bircus', 'Birmingham', 'Blackstone Brewing Co', 'Blue Bee Cider', 'Blue Corn Cafe', 'Bluebonnet Beer Company', 'BlueTarp Brewing Co.', 'Boochcraft', 'Boscos Squared', 'Boss Dog Brewing Company', 'Brasserie Corrézienne', 'Brasserie du Jorat', 'Brasserie Licorne', 'Brasserie POPIHN', 'Brasserie Valaisanne', 'Brauhaus Schönbuch Calw', 'Bravo Zulu Brewing', 'Brea', 'Breakwall Brewing Company', 'Brewery', 'Brewery', 'Brewery & Restaurant', 'Brewery & Tap Room', 'Brewing House', 'Brewpub', 'Brewpub', 'Bushwhacker Cider - Woodlawn', 'Calibration Brewery', 'Cayman Islands Brewery', 'Century City', 'Christchurch', 'Colorado Springs']\n",
      "['Lapeer', 'Boulder', 'Defiance', 'San Diego', 'Gisborne South', 'Bønes', 'Rio Grande', 'Medina', 'Lake Stevens', 'Abashiri', 'Howell', 'Henderson', 'Cheyenne', 'Addison', 'Novato', 'Fredericksburg', 'Fredericksburg', ['null'], 'Sacramento', 'Albany', 'Bel Air', 'Allen', 'Frankton', 'Frederikdsburg', 'Amiens', 'Hickory', 'Vancouver', 'Montebello', 'Silverthorne', 'Anjou', 'Gettysburg', 'Tauranga', 'Whitchurch-Stouffville', 'San Marcos', 'Arcadia', 'Kalamazoo', 'Austin', 'Denton', 'Chicago', 'Glendale', 'Fletcher', 'Richmond', 'Bellingham', 'Buckhead', 'Grand Rapids', 'Grosse Pointe Park', 'Blaine', 'Aurora', 'Austin', 'Austin', 'Boulder', 'Ferndale', \"AveCoeur d'Alene,\", 'Denver', 'St. Clair Shores', 'Oceanside', 'Baldwinsville', 'Long Beach', 'Chicago', 'Columbus', 'Medford', 'Buellton', 'Gouldsboro', 'Mognard', 'Chula Vista', 'Louisville', 'Vankleek Hill', 'Beaverton', 'New Bern', 'Rochester', 'Bel Air', 'Vista', 'Long Beach', 'San Diego', 'Bend', 'Denver', 'Bethesda', ['null'], 'Mackinaw City', 'Salem', 'Portland', 'Youngstown', 'Ludlow', 'Birmingham', 'Nashville', 'Richmond', 'Santa Fe', 'Round Rock', 'Decatur', 'Chula Vista', 'Memphis', 'Cleveland Heights', 'Curemonte', '1085 Vulliens', 'Saverne', ['null'], 'Sion', 'Calw', 'N Williamsburg', 'Brea', 'Port Colborne', 'Honolulu', 'Scotia', 'Falls Church', 'Kettering', 'Eugene', 'Greenwood', 'Tampa', 'Portland', 'North Kansas City', 'Patricks Island', 'Los Angeles', 'Christchurch', 'Colorado Springs']\n",
      "['Michigan', 'Colorado', 'Ohio', 'California', 'Victoria', 'Hordaland', 'New Jersey', 'New York', 'Washington', 'Hokkaido', 'Michigan', 'Nevada', 'Wyoming', 'Texas', 'California', 'Virginia', 'Virginia', ['null'], 'California', 'Georgia', 'Maryland', 'Texas', 'Queenstown', 'Texas', ['null'], 'North Carolina', 'WA - Washington', 'California', 'Colorado', 'Quebec', 'Pennsylvania', 'Bay of Plenty', 'Ontario', 'Texas', 'California', 'Michigan', 'Texas', 'Texas', 'Illinois', 'Arizona', 'North Carolina', 'New Hampshire', 'Washington', 'Atlanta', 'Michigan', 'Michigan', 'Washington', 'Colorado', 'Texas', 'Texas', 'Colorado', 'Michigan', 'Idaho', 'Colorado', 'Michigan', 'California', 'New York', 'California', 'Illinois', 'Ohio', 'Oregon', 'California', 'Maine', 'Savoie', 'California', 'Kentucky', 'Ontario', 'Oregon', 'North Carolina', 'New York', 'Maryland', 'California', 'California', 'California', 'Oregon', 'Colorado', 'Maryland', ['null'], 'Michigan', 'Massachusetts', 'Oregon', 'Ohio', 'Kentucky', 'Alabama', 'Tennessee', 'Virginia', 'New Mexico', 'Texas', 'Georgia', 'California', 'Tennessee', 'Ohio', ['null'], 'Switzerland', 'Alsace', ['null'], ['null'], 'Baden-Württemberg', 'Michigan', 'California', 'Ontario', 'Hawaii', 'California', 'Virginia', 'Ohio', 'Oregon', 'South Carolina', 'Florida', 'Oregon', 'Missouri', ['null'], 'California', 'New Zealand', 'Colorado']\n",
      "['UNITED STATES', 'UNITED STATES', 'UNITED STATES', 'UNITED STATES', 'AUSTRALIA', 'NORWAY', 'UNITED STATES', 'UNITED STATES', 'UNITED STATES', 'JAPAN', 'UNITED STATES', 'UNITED STATES', 'UNITED STATES', 'UNITED STATES', 'UNITED STATES', 'UNITED STATES', 'UNITED STATES', ['null'], 'UNITED STATES', 'UNITED STATES', 'UNITED STATES', 'UNITED STATES', 'NEW ZEALAND', 'UNITED STATES', ['null'], 'UNITED STATES', 'UNITED STATES', 'UNITED STATES', 'UNITED STATES', 'CANADA', 'UNITED STATES', 'NEW ZEALAND', 'CANADA', 'UNITED STATES', 'UNITED STATES', 'UNITED STATES', 'UNITED STATES', 'UNITED STATES', 'UNITED STATES', 'UNITED STATES', 'UNITED STATES', 'UNITED STATES', 'UNITED STATES', 'UNITED STATES', 'UNITED STATES', 'UNITED STATES', 'UNITED STATES', 'UNITED STATES', 'UNITED STATES', 'UNITED STATES', 'UNITED STATES', 'UNITED STATES', 'UNITED STATES', 'UNITED STATES', 'UNITED STATES', 'UNITED STATES', 'UNITED STATES', 'UNITED STATES', 'UNITED STATES', 'UNITED STATES', 'UNITED STATES', 'UNITED STATES', 'UNITED STATES', 'FRANCE', 'UNITED STATES', 'UNITED STATES', 'CANADA', 'UNITED STATES', 'UNITED STATES', 'UNITED STATES', 'UNITED STATES', 'UNITED STATES', 'UNITED STATES', 'UNITED STATES', 'UNITED STATES', 'UNITED STATES', 'UNITED STATES', ['null'], 'UNITED STATES', 'UNITED STATES', 'UNITED STATES', 'UNITED STATES', 'UNITED STATES', 'UNITED STATES', 'UNITED STATES', 'UNITED STATES', 'UNITED STATES', 'UNITED STATES', 'UNITED STATES', 'UNITED STATES', 'UNITED STATES', 'UNITED STATES', ['null'], 'SWITZERLAND', 'FRANCE', ['null'], ['null'], 'GERMANY', 'UNITED STATES', 'UNITED STATES', 'CANADA', 'UNITED STATES', 'UNITED STATES', 'UNITED STATES', 'UNITED STATES', 'UNITED STATES', 'UNITED STATES', 'UNITED STATES', 'UNITED STATES', 'UNITED STATES', ['null'], 'UNITED STATES', 'NEW ZEALAND', 'UNITED STATES']\n",
      "['Y', 'Y', 'Y', 'Y', 'Y', 'Y', 'Y', 'Y', 'Y', 'Y', 'Y', 'Y', 'Y', 'Y', 'Y', 'Y', 'Y', ['null'], 'Y', 'Y', 'Y', 'Y', 'Y', 'Y', ['null'], 'Y', 'Y', 'Y', 'Y', 'Y', 'Y', 'Y', 'Y', 'Y', 'Y', 'Y', 'Y', 'Y', 'Y', 'Y', 'Y', 'Y', 'Y', 'Y', 'Y', 'Y', 'Y', 'Y', 'Y', 'Y', 'Y', 'Y', 'Y', 'Y', 'Y', 'Y', 'Y', 'Y', 'Y', 'Y', 'Y', 'Y', 'Y', 'Y', 'Y', 'Y', 'Y', 'Y', 'N', 'Y', 'Y', 'Y', 'Y', 'Y', 'Y', 'N', 'Y', ['null'], 'Y', 'Y', 'Y', 'Y', 'Y', 'Y', 'Y', 'Y', 'Y', 'Y', 'Y', 'Y', 'Y', 'Y', ['null'], 'Y', 'Y', ['null'], ['null'], 'Y', 'N', 'Y', 'Y', 'Y', 'Y', 'Y', 'Y', 'Y', 'Y', 'Y', 'Y', 'Y', ['null'], 'Y', 'Y', 'Y']\n",
      "['N', 'N', 'N', 'N', 'N', 'N', 'N', 'N', 'N', 'N', 'N', 'N', 'N', 'N', 'N', 'N', 'N', ['null'], 'N', 'N', 'N', 'N', 'N', 'N', ['null'], 'N', 'N', 'N', 'N', 'N', 'N', 'N', 'N', 'N', 'N', 'N', 'N', 'N', 'N', 'N', 'N', 'N', 'N', 'N', 'N', 'N', 'N', 'N', 'N', 'N', 'N', 'N', 'N', 'N', 'N', 'N', 'N', 'N', 'N', 'N', 'N', 'N', 'N', 'N', 'N', 'N', 'N', 'N', 'Y', 'N', 'Y', 'N', 'N', 'N', 'N', 'Y', 'N', ['null'], 'N', 'N', 'N', 'N', 'N', 'N', 'N', 'N', 'N', 'N', 'N', 'N', 'N', 'N', ['null'], 'N', 'N', ['null'], ['null'], 'N', 'Y', 'N', 'N', 'N', 'N', 'N', 'N', 'N', 'N', 'N', 'N', 'N', ['null'], 'N', 'N', 'N']\n"
     ]
    }
   ],
   "source": [
    "## NOT NEEDED ##\n",
    "# Print Lists\n",
    "print(est)\n",
    "print(names)\n",
    "print(local)\n",
    "print(region)\n",
    "print(country)\n",
    "print(bizstatus)\n",
    "print(closed)"
   ]
  },
  {
   "cell_type": "code",
   "execution_count": 7,
   "metadata": {},
   "outputs": [
    {
     "data": {
      "text/html": [
       "<div>\n",
       "<style scoped>\n",
       "    .dataframe tbody tr th:only-of-type {\n",
       "        vertical-align: middle;\n",
       "    }\n",
       "\n",
       "    .dataframe tbody tr th {\n",
       "        vertical-align: top;\n",
       "    }\n",
       "\n",
       "    .dataframe thead th {\n",
       "        text-align: right;\n",
       "    }\n",
       "</style>\n",
       "<table border=\"1\" class=\"dataframe\">\n",
       "  <thead>\n",
       "    <tr style=\"text-align: right;\">\n",
       "      <th></th>\n",
       "      <th>Brewery Name</th>\n",
       "      <th>City</th>\n",
       "      <th>State</th>\n",
       "      <th>Country</th>\n",
       "      <th>Year Established</th>\n",
       "      <th>In Business?</th>\n",
       "      <th>Closed?</th>\n",
       "    </tr>\n",
       "  </thead>\n",
       "  <tbody>\n",
       "    <tr>\n",
       "      <th>0</th>\n",
       "      <td>4 Seasons Brewery</td>\n",
       "      <td>Lapeer</td>\n",
       "      <td>Michigan</td>\n",
       "      <td>UNITED STATES</td>\n",
       "      <td>2014</td>\n",
       "      <td>Y</td>\n",
       "      <td>N</td>\n",
       "    </tr>\n",
       "    <tr>\n",
       "      <th>1</th>\n",
       "      <td>40 North Brewing</td>\n",
       "      <td>Boulder</td>\n",
       "      <td>Colorado</td>\n",
       "      <td>UNITED STATES</td>\n",
       "      <td>2011</td>\n",
       "      <td>Y</td>\n",
       "      <td>N</td>\n",
       "    </tr>\n",
       "    <tr>\n",
       "      <th>2</th>\n",
       "      <td>4kd Crick Brewery</td>\n",
       "      <td>Defiance</td>\n",
       "      <td>Ohio</td>\n",
       "      <td>UNITED STATES</td>\n",
       "      <td>2016</td>\n",
       "      <td>Y</td>\n",
       "      <td>N</td>\n",
       "    </tr>\n",
       "    <tr>\n",
       "      <th>3</th>\n",
       "      <td>4S Ranch</td>\n",
       "      <td>San Diego</td>\n",
       "      <td>California</td>\n",
       "      <td>UNITED STATES</td>\n",
       "      <td>1989</td>\n",
       "      <td>Y</td>\n",
       "      <td>N</td>\n",
       "    </tr>\n",
       "    <tr>\n",
       "      <th>4</th>\n",
       "      <td>7 Cent Brewing</td>\n",
       "      <td>Gisborne South</td>\n",
       "      <td>Victoria</td>\n",
       "      <td>AUSTRALIA</td>\n",
       "      <td>2012</td>\n",
       "      <td>Y</td>\n",
       "      <td>N</td>\n",
       "    </tr>\n",
       "  </tbody>\n",
       "</table>\n",
       "</div>"
      ],
      "text/plain": [
       "        Brewery Name            City       State        Country  \\\n",
       "0  4 Seasons Brewery          Lapeer    Michigan  UNITED STATES   \n",
       "1   40 North Brewing         Boulder    Colorado  UNITED STATES   \n",
       "2  4kd Crick Brewery        Defiance        Ohio  UNITED STATES   \n",
       "3           4S Ranch       San Diego  California  UNITED STATES   \n",
       "4     7 Cent Brewing  Gisborne South    Victoria      AUSTRALIA   \n",
       "\n",
       "  Year Established In Business? Closed?  \n",
       "0             2014            Y       N  \n",
       "1             2011            Y       N  \n",
       "2             2016            Y       N  \n",
       "3             1989            Y       N  \n",
       "4             2012            Y       N  "
      ]
     },
     "execution_count": 7,
     "metadata": {},
     "output_type": "execute_result"
    }
   ],
   "source": [
    "# Create a Data Frame\n",
    "brewery_dict = {\n",
    "    \"Brewery Name\": names,\n",
    "    \"City\": local,\n",
    "    \"State\": region,\n",
    "    \"Country\": country,\n",
    "    \"Year Established\": est,\n",
    "    \"In Business?\": bizstatus,\n",
    "    \"Closed?\": closed\n",
    "}\n",
    "brewery_data = pd.DataFrame(brewery_dict)\n",
    "brewery_data.head()"
   ]
  },
  {
   "cell_type": "code",
   "execution_count": 8,
   "metadata": {},
   "outputs": [
    {
     "data": {
      "text/plain": [
       "Brewery Name        114\n",
       "City                114\n",
       "State               114\n",
       "Country             114\n",
       "Year Established    114\n",
       "In Business?        114\n",
       "Closed?             114\n",
       "dtype: int64"
      ]
     },
     "execution_count": 8,
     "metadata": {},
     "output_type": "execute_result"
    }
   ],
   "source": [
    "## NOT NEEDED ##\n",
    "# Double Check Data Count\n",
    "brewery_data.count()"
   ]
  },
  {
   "cell_type": "code",
   "execution_count": 9,
   "metadata": {},
   "outputs": [],
   "source": [
    "# Export to CSV file\n",
    "brewery_data.to_csv(\"Output/brewery_data_part1.csv\",\n",
    "                   encoding=\"utf-8\", index=False, header=True)\n"
   ]
  },
  {
   "cell_type": "code",
   "execution_count": 10,
   "metadata": {},
   "outputs": [],
   "source": [
    "## Will need to pull Part 2 of data with another account or wait until next day. API limit is 200/day"
   ]
  },
  {
   "cell_type": "code",
   "execution_count": null,
   "metadata": {},
   "outputs": [],
   "source": []
  }
 ],
 "metadata": {
  "kernelspec": {
   "display_name": "Python 3",
   "language": "python",
   "name": "python3"
  },
  "language_info": {
   "codemirror_mode": {
    "name": "ipython",
    "version": 3
   },
   "file_extension": ".py",
   "mimetype": "text/x-python",
   "name": "python",
   "nbconvert_exporter": "python",
   "pygments_lexer": "ipython3",
   "version": "3.6.6"
  }
 },
 "nbformat": 4,
 "nbformat_minor": 2
}
