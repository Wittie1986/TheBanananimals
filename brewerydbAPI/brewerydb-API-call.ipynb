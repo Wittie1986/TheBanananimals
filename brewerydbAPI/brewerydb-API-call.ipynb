{
 "cells": [
  {
   "cell_type": "code",
   "execution_count": 1,
   "metadata": {},
   "outputs": [],
   "source": [
    "# Dependencies\n",
    "\n",
    "import requests\n",
    "import json\n",
    "import pandas as pd\n",
    "import time"
   ]
  },
  {
   "cell_type": "code",
   "execution_count": 2,
   "metadata": {},
   "outputs": [],
   "source": [
    "#Build URL\n",
    "\n",
    "url = \"https://api.brewerydb.com/v2/locations/\"\n",
    "api_key = \"?key=ce9e2cd34af4e3038e4d25477173db69&p=\"\n",
    "new_url = url + api_key\n",
    "\n",
    "# Note: API is tempermental | Only have 200 requests / day"
   ]
  },
  {
   "cell_type": "code",
   "execution_count": 3,
   "metadata": {},
   "outputs": [],
   "source": [
    "# Lists\n",
    "\n",
    "pages = []\n",
    "pages = list(range(195,210))\n",
    "\n",
    "# try a small number first to test & avoid overloading API\n",
    "# run in 15page ranges to avoid overloading API:\n",
    "\n",
    "# Amanda: (1,15), (15,30), (30,45), (45,60), (60,75), (75,90), (90,105)\n",
    "# Amanda: (105,120), (120,135), (135,150), (150,165), (165,180), (180,195)\n",
    "# ****Nathan: (195,210), (210,225), (225,240), (240,255), (255,261)\n",
    "# Amanda: Last Page has less indexes, so run it solo: (261,262)   "
   ]
  },
  {
   "cell_type": "code",
   "execution_count": 4,
   "metadata": {},
   "outputs": [],
   "source": [
    "# Lists Part 2\n",
    "\n",
    "indexes = []\n",
    "indexes = list(range(0,50))\n",
    "\n",
    "# Amanda/Nathan: use range (0,50) for all pages except last page (261,262)\n",
    "# Amanda: use range (0,15) for last page, it has 16 indexes"
   ]
  },
  {
   "cell_type": "code",
   "execution_count": 5,
   "metadata": {},
   "outputs": [],
   "source": [
    "# Lists Part 3\n",
    "\n",
    "names = []\n",
    "local = []\n",
    "region = []\n",
    "country = []\n",
    "est = []\n",
    "bizstatus = []\n",
    "closed = [] "
   ]
  },
  {
   "cell_type": "code",
   "execution_count": 6,
   "metadata": {},
   "outputs": [],
   "source": [
    "# Request API\n",
    "\n",
    "for page in pages:\n",
    "    response = requests.get(new_url + str(page)).json()\n",
    "    for index in indexes:\n",
    "        try:\n",
    "            est.append(response[\"data\"][index][\"brewery\"][\"established\"])\n",
    "        except KeyError:\n",
    "            indexes.remove(index)\n",
    "            continue\n",
    "        names.append(response[\"data\"][index][\"brewery\"][\"name\"])\n",
    "        try:\n",
    "            local.append(response[\"data\"][index][\"locality\"])\n",
    "        except KeyError:\n",
    "            local.append([\"null\"])\n",
    "            region.append([\"null\"])\n",
    "            country.append([\"null\"])\n",
    "            bizstatus.append([\"null\"])\n",
    "            closed.append([\"null\"])\n",
    "            continue\n",
    "        try:\n",
    "            region.append(response[\"data\"][index][\"region\"])\n",
    "        except KeyError:\n",
    "            region.append([\"null\"])\n",
    "            country.append([\"null\"])\n",
    "            bizstatus.append([\"null\"])\n",
    "            closed.append([\"null\"])\n",
    "            continue\n",
    "        try:\n",
    "            country.append(response[\"data\"][index][\"country\"][\"name\"])\n",
    "        except KeyError:\n",
    "            country.append([\"null\"])\n",
    "            bizstatus.append([\"null\"])\n",
    "            closed.append([\"null\"])\n",
    "            continue\n",
    "        try:\n",
    "            bizstatus.append(response[\"data\"][index][\"brewery\"][\"isInBusiness\"])\n",
    "        except KeyError:\n",
    "            bizstatus.append([\"null\"])\n",
    "            closed.append([\"null\"])\n",
    "            continue\n",
    "        try:\n",
    "            closed.append(response[\"data\"][index][\"isClosed\"])\n",
    "        except KeyError:\n",
    "            closed.append([\"null\"])\n",
    "            continue\n",
    "time.sleep(5)"
   ]
  },
  {
   "cell_type": "code",
   "execution_count": 7,
   "metadata": {},
   "outputs": [
    {
     "data": {
      "text/plain": [
       "(50, 50, 50, 50, 50, 50, 50)"
      ]
     },
     "execution_count": 7,
     "metadata": {},
     "output_type": "execute_result"
    }
   ],
   "source": [
    "# Count length of lists to check API call was correct\n",
    "\n",
    "len(est), len(names), len(local), len(region), len(country), len(bizstatus), len(closed)"
   ]
  },
  {
   "cell_type": "code",
   "execution_count": 8,
   "metadata": {},
   "outputs": [
    {
     "data": {
      "text/html": [
       "<div>\n",
       "<style scoped>\n",
       "    .dataframe tbody tr th:only-of-type {\n",
       "        vertical-align: middle;\n",
       "    }\n",
       "\n",
       "    .dataframe tbody tr th {\n",
       "        vertical-align: top;\n",
       "    }\n",
       "\n",
       "    .dataframe thead th {\n",
       "        text-align: right;\n",
       "    }\n",
       "</style>\n",
       "<table border=\"1\" class=\"dataframe\">\n",
       "  <thead>\n",
       "    <tr style=\"text-align: right;\">\n",
       "      <th></th>\n",
       "      <th>Brewery Name</th>\n",
       "      <th>City</th>\n",
       "      <th>State</th>\n",
       "      <th>Country</th>\n",
       "      <th>Year Established</th>\n",
       "      <th>Still in Business?</th>\n",
       "      <th>Closed?</th>\n",
       "    </tr>\n",
       "  </thead>\n",
       "  <tbody>\n",
       "    <tr>\n",
       "      <th>0</th>\n",
       "      <td>Schlossbrauerei Fürstlich Drehna der Germania ...</td>\n",
       "      <td>Luckau</td>\n",
       "      <td>Brandenburg</td>\n",
       "      <td>GERMANY</td>\n",
       "      <td>1745</td>\n",
       "      <td>Y</td>\n",
       "      <td>N</td>\n",
       "    </tr>\n",
       "    <tr>\n",
       "      <th>1</th>\n",
       "      <td>Hausbrauerei Laubegast</td>\n",
       "      <td>Dresden</td>\n",
       "      <td>Saxony</td>\n",
       "      <td>GERMANY</td>\n",
       "      <td>2008</td>\n",
       "      <td>Y</td>\n",
       "      <td>N</td>\n",
       "    </tr>\n",
       "    <tr>\n",
       "      <th>2</th>\n",
       "      <td>Declaration Brewing Company</td>\n",
       "      <td>Denver</td>\n",
       "      <td>Colorado</td>\n",
       "      <td>UNITED STATES</td>\n",
       "      <td>2014</td>\n",
       "      <td>Y</td>\n",
       "      <td>N</td>\n",
       "    </tr>\n",
       "    <tr>\n",
       "      <th>3</th>\n",
       "      <td>Escape Craft Brewery</td>\n",
       "      <td>Redlands</td>\n",
       "      <td>California</td>\n",
       "      <td>UNITED STATES</td>\n",
       "      <td>2014</td>\n",
       "      <td>Y</td>\n",
       "      <td>N</td>\n",
       "    </tr>\n",
       "    <tr>\n",
       "      <th>4</th>\n",
       "      <td>Bloom Brew</td>\n",
       "      <td>Newton</td>\n",
       "      <td>Pennsylvania</td>\n",
       "      <td>UNITED STATES</td>\n",
       "      <td>2013</td>\n",
       "      <td>Y</td>\n",
       "      <td>N</td>\n",
       "    </tr>\n",
       "  </tbody>\n",
       "</table>\n",
       "</div>"
      ],
      "text/plain": [
       "                                        Brewery Name      City         State  \\\n",
       "0  Schlossbrauerei Fürstlich Drehna der Germania ...    Luckau   Brandenburg   \n",
       "1                             Hausbrauerei Laubegast   Dresden        Saxony   \n",
       "2                        Declaration Brewing Company    Denver      Colorado   \n",
       "3                               Escape Craft Brewery  Redlands    California   \n",
       "4                                         Bloom Brew    Newton  Pennsylvania   \n",
       "\n",
       "         Country Year Established Still in Business? Closed?  \n",
       "0        GERMANY             1745                  Y       N  \n",
       "1        GERMANY             2008                  Y       N  \n",
       "2  UNITED STATES             2014                  Y       N  \n",
       "3  UNITED STATES             2014                  Y       N  \n",
       "4  UNITED STATES             2013                  Y       N  "
      ]
     },
     "execution_count": 8,
     "metadata": {},
     "output_type": "execute_result"
    }
   ],
   "source": [
    "# Create a Data Frame\n",
    "\n",
    "brewery_dict = {\n",
    "    \"Brewery Name\": names,\n",
    "    \"City\": local,\n",
    "    \"State\": region,\n",
    "    \"Country\": country,\n",
    "    \"Year Established\": est,\n",
    "    \"Still in Business?\": bizstatus,\n",
    "    \"Closed?\": closed\n",
    "}\n",
    "brewery_data = pd.DataFrame(brewery_dict)\n",
    "brewery_data.head()"
   ]
  },
  {
   "cell_type": "code",
   "execution_count": 9,
   "metadata": {},
   "outputs": [],
   "source": [
    "# Export data to CSV file\n",
    "\n",
    "brewery_data.to_csv(\"Output/brewery_data_page195-209.csv\",\n",
    "                   encoding=\"utf-8\", index=False, header=True)\n",
    "\n",
    "# Change File name for each 15pages called & Merge after all are completed\n",
    "# Base CSV Name: brewery_data_page\n",
    "# With page numbers: brewery_data_page001-014.csv\n",
    "\n",
    "# Amanda: 001-014, 015-029, 030-044, 045-059, 060-074, 075-089, 090-104\n",
    "# Amanda: 105-119, 120-134, 135-149, 150-164, 165-179, 180-194\n",
    "# ****Nathan: 195-209, 210-224, 225-239, 240-254, 255-261\n",
    "# Amanda: 261"
   ]
  },
  {
   "cell_type": "code",
   "execution_count": null,
   "metadata": {},
   "outputs": [],
   "source": [
    "# Merge all CSV files in next steps"
   ]
  }
 ],
 "metadata": {
  "kernelspec": {
   "display_name": "Python 3",
   "language": "python",
   "name": "python3"
  },
  "language_info": {
   "codemirror_mode": {
    "name": "ipython",
    "version": 3
   },
   "file_extension": ".py",
   "mimetype": "text/x-python",
   "name": "python",
   "nbconvert_exporter": "python",
   "pygments_lexer": "ipython3",
   "version": "3.6.6"
  }
 },
 "nbformat": 4,
 "nbformat_minor": 2
}
